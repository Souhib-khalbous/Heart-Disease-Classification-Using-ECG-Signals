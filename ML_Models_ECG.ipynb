{
  "nbformat": 4,
  "nbformat_minor": 0,
  "metadata": {
    "colab": {
      "provenance": []
    },
    "kernelspec": {
      "name": "python3",
      "display_name": "Python 3"
    },
    "language_info": {
      "name": "python"
    }
  },
  "cells": [
    {
      "cell_type": "markdown",
      "source": [
        "# **Cell.1: Mount The Data**\n",
        "\n"
      ],
      "metadata": {
        "id": "5dzECvG0CNkc"
      }
    },
    {
      "cell_type": "code",
      "execution_count": null,
      "metadata": {
        "colab": {
          "base_uri": "https://localhost:8080/"
        },
        "id": "PAH91tP2UJu-",
        "outputId": "c1cf6b0d-b615-4338-9c17-ba6f5ac450bb"
      },
      "outputs": [
        {
          "output_type": "stream",
          "name": "stdout",
          "text": [
            "Mounted at /content/drive\n"
          ]
        }
      ],
      "source": [
        "from google.colab import drive\n",
        "drive.mount('/content/drive')"
      ]
    },
    {
      "cell_type": "markdown",
      "source": [
        "# **Cell.2: Libraries**"
      ],
      "metadata": {
        "id": "fJ2aaewIJfVP"
      }
    },
    {
      "cell_type": "code",
      "source": [
        "import numpy as np\n",
        "import pandas as pd\n",
        "import matplotlib.pyplot as plt\n",
        "from sklearn.model_selection import KFold\n",
        "from sklearn.neighbors import KNeighborsClassifier\n",
        "from scipy.io import loadmat\n",
        "\n",
        "# Metrics for evaluating model performance\n",
        "from sklearn.metrics import confusion_matrix, classification_report\n",
        "from sklearn.metrics import f1_score, accuracy_score\n",
        "from sklearn.metrics import roc_auc_score, roc_curve, auc"
      ],
      "metadata": {
        "id": "PXDOsYskd16Q"
      },
      "execution_count": null,
      "outputs": []
    },
    {
      "cell_type": "markdown",
      "source": [
        "# **Cell.3:** ***Access and Display Shape of Feature Dataset from HDF5 File***\n",
        "\n"
      ],
      "metadata": {
        "id": "1JQYtGozJ0e4"
      }
    },
    {
      "cell_type": "markdown",
      "source": [
        "This code accesses the 'f' dataset within an HDF5 file and prints its dimensions, essential for understanding its structure and preparing for further tasks."
      ],
      "metadata": {
        "id": "k5bfEGuYPyeH"
      }
    },
    {
      "cell_type": "code",
      "source": [
        "import h5py\n",
        "\n",
        "features_path = '/content/drive/MyDrive/Full Datasets (PTB and MIT)/Feature Extracted by Hatem/PTB_Features2.mat'\n",
        "\n",
        "# Open the HDF5 file and directly access the 'f' dataset\n",
        "with h5py.File(features_path, 'r') as file:\n",
        "    # Directly print the shape of the 'f' dataset\n",
        "    print(\"'f' dataset shape:\", file['f'].shape)\n"
      ],
      "metadata": {
        "colab": {
          "base_uri": "https://localhost:8080/"
        },
        "id": "Dml08hpBqPdf",
        "outputId": "0d9b120c-be92-4ffc-9f9e-3da2865789e2"
      },
      "execution_count": null,
      "outputs": [
        {
          "output_type": "stream",
          "name": "stdout",
          "text": [
            "'f' dataset shape: (1, 549)\n"
          ]
        }
      ]
    },
    {
      "cell_type": "markdown",
      "source": [
        "# **Cell.4:** ***Load and Access Patient Diagnosis Labels from MAT File***\n",
        "\n",
        "\n"
      ],
      "metadata": {
        "id": "1zf-B84bLDpz"
      }
    },
    {
      "cell_type": "markdown",
      "source": [
        "This code loads a dataset of patient diagnosis labels from a MAT file, accesses specific diagnosis data from a structured array, and prints the first five labels to verify correct loading and data structure understanding."
      ],
      "metadata": {
        "id": "LhFYFBT-P6m8"
      }
    },
    {
      "cell_type": "code",
      "source": [
        "from scipy.io import loadmat\n",
        "\n",
        "# Correctly specify the path to the labels dataset\n",
        "labels_path = '/content/drive/MyDrive/Full Datasets (PTB and MIT)/Feature Extracted by Hatem/patientDiagnoses.mat'\n",
        "\n",
        "# Load the labels dataset\n",
        "label_data = loadmat(labels_path)\n",
        "\n",
        "# Access the diagnosis data, assuming 'patientInfo' is the struct and 'diagnosis' is the field\n",
        "# This correction is based on the detailed structure you've provided earlier\n",
        "labels = [label[0] for label in label_data['patientInfo']['diagnosis'][0]]\n",
        "\n",
        "print(\"Labels loaded. Sample label data:\", labels[:5])  # Print the first 5 labels to inspect\n"
      ],
      "metadata": {
        "colab": {
          "base_uri": "https://localhost:8080/"
        },
        "id": "Z0QTyuXDnf5I",
        "outputId": "094c8b05-5045-47cf-b8fb-5bba9154a921"
      },
      "execution_count": null,
      "outputs": [
        {
          "output_type": "stream",
          "name": "stdout",
          "text": [
            "Labels loaded. Sample label data: ['Valvular heart disease', 'Myocardial infarction', 'Myocardial infarction', 'n/a', 'Unstable angina']\n"
          ]
        }
      ]
    },
    {
      "cell_type": "markdown",
      "source": [
        "# **Cell.5:** ***Extract and Flatten Features from HDF5 File***\n",
        "\n"
      ],
      "metadata": {
        "id": "t7oDieknLc6u"
      }
    },
    {
      "cell_type": "markdown",
      "source": [
        "This code opens an HDF5 file to extract and flatten data from a dataset labeled 'f'. It retrieves additional data from references and prints the total number of extracted features as well as the shape of the first set of features to ensure correct data handling and format."
      ],
      "metadata": {
        "id": "JgJYeNDvQCcj"
      }
    },
    {
      "cell_type": "code",
      "source": [
        "with h5py.File(features_path, 'r') as file:\n",
        "    refs = file['#refs#']\n",
        "    features_data = np.array(file['f']).flatten()  # Ensure 'f' data is appropriately flattened\n",
        "    extracted_features = [np.array(refs[ref]) for ref in features_data]\n",
        "\n",
        "    print(f\"Total extracted features: {len(extracted_features)}\")\n",
        "    if extracted_features:\n",
        "        print(f\"Shape of the first feature set: {extracted_features[0].shape}\")\n"
      ],
      "metadata": {
        "colab": {
          "base_uri": "https://localhost:8080/"
        },
        "id": "Agh-g74bq2TX",
        "outputId": "3370b8d1-6b51-4fde-f3c3-56f78946adf0"
      },
      "execution_count": null,
      "outputs": [
        {
          "output_type": "stream",
          "name": "stdout",
          "text": [
            "Total extracted features: 549\n",
            "Shape of the first feature set: (526, 15)\n"
          ]
        }
      ]
    },
    {
      "cell_type": "markdown",
      "source": [
        "# **Cell.6:**  **Flattening the Array:**\n"
      ],
      "metadata": {
        "id": "kvTYwSNY1w9v"
      }
    },
    {
      "cell_type": "markdown",
      "source": [
        "Flattening is the process of converting a multi-dimensional array into a one-dimensional (1D) array. For example, taking a matrix (which is a 2D array) and transforming it into a single row or column of values. In this context, flattening the 15x526 matrix into a single array with 15*526 elements allows us to treat each ECG record's features as a single sample with multiple features when using machine learning models. This step is crucial because most machine learning algorithms, including KNN (K-Nearest Neighbors), expect input data in a 2D array format where each row is a sample and each column is a feature.\n",
        "\n",
        "***Example:***\n",
        "\n",
        "Channel 1: [1, 2, 3, 4] Channel 2: [5, 6, 7, 8] Channel 3: [9, 10, 11, 12]\n",
        "\n",
        "This matrix visually:\n",
        "\n",
        "[ [ 1, 2, 3, 4], [ 5, 6, 7, 8], [ 9, 10, 11, 12] ]\n",
        "\n",
        "Flattening this matrix means transforming it into a one-dimensional array, like so:\n",
        "\n",
        "[1, 2, 3, 4, 5, 6, 7, 8, 9, 10, 11, 12]\n",
        "\n",
        "Now, this flat array is a single row of features for this record. If this were your ECG data, each number could represent a specific feature extracted from a channel, and by flattening it, you've prepared a single sample for your machine learning model, where every feature is a column in your dataset. In your actual case, you have 15 channels and 526 features per channel, leading to a flattened array of 15*526=7890 features per record."
      ],
      "metadata": {
        "id": "zXU7dKaUOeJt"
      }
    },
    {
      "cell_type": "code",
      "source": [
        "# Initialize an empty array with the correct shape (549, 7890)\n",
        "X = np.empty((len(extracted_features), 15 * 526))\n",
        "\n",
        "# Efficiently fill in the array with flattened data from extracted_features\n",
        "for i, features in enumerate(extracted_features):\n",
        "    X[i, :] = features.flatten()\n",
        "\n",
        "print(f\"Shape of the flattened feature matrix: {X.shape}\")  # Confirm the shape # Should output (549, 7890)\n"
      ],
      "metadata": {
        "colab": {
          "base_uri": "https://localhost:8080/"
        },
        "id": "qVgi4KnF0brR",
        "outputId": "0f8747e6-3c58-481b-a5d9-69588e167bef"
      },
      "execution_count": null,
      "outputs": [
        {
          "output_type": "stream",
          "name": "stdout",
          "text": [
            "Shape of the flattened feature matrix: (549, 7890)\n"
          ]
        }
      ]
    },
    {
      "cell_type": "markdown",
      "source": [
        "# **Cell.7:** **Preparing The Labels**"
      ],
      "metadata": {
        "id": "CmXX3Wiq4yLv"
      }
    },
    {
      "cell_type": "markdown",
      "source": [
        "**Load, Encode, and Inspect Patient Diagnosis Labels for ML Use**\n",
        "\n",
        "This piece of code loads patient diagnosis labels from a MAT file and encodes them into a numeric format suitable for ML models using LabelEncoder.\n",
        "\n",
        "The code extracts string labels from a structured array, transforms them into numerical categories, and prints the shape of the encoded labels to verify the transformation. Additionally, it displays unique diagnoses to understand label diversity and outputs a sample of the labels for inspection."
      ],
      "metadata": {
        "id": "T09RDQzjc_XC"
      }
    },
    {
      "cell_type": "code",
      "source": [
        "from scipy.io import loadmat\n",
        "from sklearn.preprocessing import LabelEncoder\n",
        "\n",
        "# Specify the path to the labels dataset\n",
        "labels_path = '/content/drive/MyDrive/Full Datasets (PTB and MIT)/Feature Extracted by Hatem/patientDiagnoses.mat'\n",
        "\n",
        "# Load the label data\n",
        "label_data = loadmat(labels_path)\n",
        "\n",
        "# Extract labels using the known structure. Adjust 'diagnosis' based on the actual structure\n",
        "labels = [str(label[0]) for label in label_data['patientInfo']['diagnosis'][0]]\n",
        "\n",
        "# Encode labels into a format suitable for ML models\n",
        "le = LabelEncoder()\n",
        "y = le.fit_transform(labels)\n",
        "\n",
        "# Print the shape of the encoded labels to confirm successful transformation\n",
        "print(f\"Encoded labels shape: {y.shape}\")\n",
        "\n",
        "# Display unique diagnoses to understand the label distribution\n",
        "unique_diagnoses = set(labels)\n",
        "print(f\"Unique diagnoses: {unique_diagnoses}\")\n",
        "\n",
        "# Optionally, print a few sample labels for inspection\n",
        "print(f\"Sample labels: {labels[:5]}\")\n"
      ],
      "metadata": {
        "colab": {
          "base_uri": "https://localhost:8080/"
        },
        "id": "-FM0lNMF4xLx",
        "outputId": "18a9ed8e-bc13-4a1f-ab06-4d06b4ccb5b8"
      },
      "execution_count": null,
      "outputs": [
        {
          "output_type": "stream",
          "name": "stdout",
          "text": [
            "Encoded labels shape: (549,)\n",
            "Unique diagnoses: {'Healthy control', 'Cardiomyopathy', 'Myocardial infarction', 'Stable angina', 'Valvular heart disease', 'Heart failure (NYHA 3)', 'Unstable angina', 'Hypertrophy', 'Myocarditis', 'Bundle branch block', 'Dysrhythmia', 'Heart failure (NYHA 4)', 'n/a', 'Palpitation', 'Heart failure (NYHA 2)'}\n",
            "Sample labels: ['Valvular heart disease', 'Myocardial infarction', 'Myocardial infarction', 'n/a', 'Unstable angina']\n"
          ]
        }
      ]
    },
    {
      "cell_type": "markdown",
      "source": [
        "# **Cell.8:**  **Eliminating Some Classes**"
      ],
      "metadata": {
        "id": "Vnh89DZnEoGW"
      }
    },
    {
      "cell_type": "markdown",
      "source": [
        "**Filter, Encode, and Analyze Specific Classes from Dataset**\n",
        "\n",
        "This code filters and encodes patient labels for specific classes ('Myocardial infarction' and 'Healthy control') from a dataset. It identifies records with desired labels, extracts corresponding features and labels, and then encodes the labels numerically. The script confirms the process by displaying the shapes of the filtered features and encoded labels, the unique labels retained, and the distribution of the classes, ensuring that only relevant data is processed for machine learning models."
      ],
      "metadata": {
        "id": "VXC_Ub5BdzbB"
      }
    },
    {
      "cell_type": "code",
      "source": [
        "from sklearn.preprocessing import LabelEncoder\n",
        "from collections import Counter\n",
        "\n",
        "# Given labels are already loaded into 'labels'\n",
        "desired_labels = ['Myocardial infarction', 'Healthy control']\n",
        "\n",
        "# Find indexes of records with desired labels\n",
        "desired_indexes = [i for i, label in enumerate(labels) if label in desired_labels]\n",
        "\n",
        "# Filter features and labels to include only those with desired labels\n",
        "X_desired = X[desired_indexes]\n",
        "y_desired = [labels[i] for i in desired_indexes]\n",
        "\n",
        "# Encoding the filtered labels\n",
        "le = LabelEncoder()\n",
        "y_desired_encoded = le.fit_transform(y_desired)\n",
        "\n",
        "# Verifying the shapes after filtering and encoding\n",
        "print(f\"Shape of filtered features (X_desired): {X_desired.shape}\")\n",
        "print(f\"Shape of filtered, encoded labels (y_desired_encoded): {y_desired_encoded.shape}\")\n",
        "print(f\"Unique labels after filtering and encoding: {set(y_desired)}\")\n",
        "\n",
        "# Optional: Print class distribution\n",
        "print(f\"Class distribution: {Counter(y_desired_encoded)}\")\n"
      ],
      "metadata": {
        "colab": {
          "base_uri": "https://localhost:8080/"
        },
        "id": "H3eouwcA8xW9",
        "outputId": "ee6efe83-fbca-48e4-b41c-7aad6c2b1f21"
      },
      "execution_count": null,
      "outputs": [
        {
          "output_type": "stream",
          "name": "stdout",
          "text": [
            "Shape of filtered features (X_desired): (448, 7890)\n",
            "Shape of filtered, encoded labels (y_desired_encoded): (448,)\n",
            "Unique labels after filtering and encoding: {'Healthy control', 'Myocardial infarction'}\n",
            "Class distribution: Counter({1: 368, 0: 80})\n"
          ]
        }
      ]
    },
    {
      "cell_type": "markdown",
      "source": [
        "# **TESTING**"
      ],
      "metadata": {
        "id": "A9o14WT0hDhP"
      }
    },
    {
      "cell_type": "code",
      "source": [
        "from sklearn.model_selection import cross_val_score, KFold\n",
        "from sklearn.neighbors import KNeighborsClassifier\n",
        "from sklearn.svm import SVC\n",
        "from sklearn.tree import DecisionTreeClassifier\n",
        "from sklearn.ensemble import RandomForestClassifier\n",
        "import numpy as np\n",
        "\n",
        "# Define your dataset\n",
        "X = X_desired\n",
        "y = y_desired_encoded\n",
        "\n",
        "# Initialize models\n",
        "models = {\n",
        "    \"KNN\": KNeighborsClassifier(),\n",
        "    \"SVC\": SVC(kernel='linear', probability=True),  # You might change kernel based on your data\n",
        "    \"Decision Tree\": DecisionTreeClassifier(),\n",
        "    \"Random Forest\": RandomForestClassifier(n_estimators=95)  # You can adjust the number of trees\n",
        "}\n",
        "\n",
        "# Setup cross-validation\n",
        "kf = KFold(n_splits=9, shuffle=True, random_state=42)\n",
        "\n",
        "# Function to evaluate each model using K-Fold cross-validation\n",
        "def evaluate_models(models, X, y, kf):\n",
        "    model_results = {}\n",
        "    for name, model in models.items():\n",
        "        cv_scores = cross_val_score(model, X, y, cv=kf, scoring='accuracy')\n",
        "        model_results[name] = {\n",
        "            \"Accuracy\": np.mean(cv_scores),\n",
        "            \"Standard Deviation\": np.std(cv_scores)\n",
        "        }\n",
        "        print(f\"{name} - Accuracy: {model_results[name]['Accuracy']:.4f} (+/- {model_results[name]['Standard Deviation']:.4f})\")\n",
        "    return model_results\n",
        "\n",
        "# Run evaluation\n",
        "results = evaluate_models(models, X, y, kf)\n"
      ],
      "metadata": {
        "colab": {
          "base_uri": "https://localhost:8080/"
        },
        "id": "8Vo_r9BcfpuO",
        "outputId": "6b42e187-2e8f-434e-f78c-368915c319d4"
      },
      "execution_count": null,
      "outputs": [
        {
          "output_type": "stream",
          "name": "stdout",
          "text": [
            "KNN - Accuracy: 0.8215 (+/- 0.0444)\n",
            "SVC - Accuracy: 0.7969 (+/- 0.0416)\n",
            "Decision Tree - Accuracy: 0.7903 (+/- 0.0428)\n",
            "Random Forest - Accuracy: 0.8171 (+/- 0.0412)\n"
          ]
        }
      ]
    },
    {
      "cell_type": "markdown",
      "source": [
        "# **Classifiers**"
      ],
      "metadata": {
        "id": "O5RHHGaT4Gjg"
      }
    },
    {
      "cell_type": "code",
      "source": [
        "from sklearn.tree import DecisionTreeClassifier\n",
        "from sklearn.svm import SVC\n",
        "from sklearn.metrics import roc_auc_score, roc_curve, auc, accuracy_score\n",
        "from sklearn.calibration import CalibratedClassifierCV\n",
        "import matplotlib.pyplot as plt\n",
        "from sklearn.model_selection import train_test_split\n",
        "from sklearn.ensemble import RandomForestClassifier\n",
        "import numpy as np\n",
        "\n",
        "# Assuming X_desired and y_desired_encoded are your features and labels\n",
        "X_train, X_test, y_train, y_test = train_test_split(X_desired, y_desired_encoded, test_size=50, random_state=42)\n",
        "\n",
        "print(f\"This is the X train: {X_train.shape}\")\n",
        "print(f\"\\nThis is the X Test: {X_test.shape}\")\n",
        "print(f\"\\nThis is the y Train: {y_train.shape}\")\n",
        "print(f\"\\nThis is the y Test: {y_test.shape}\")\n",
        "\n",
        "\n",
        "# Calculate the fraction of each class in y_train\n",
        "class_fractions = 1 - np.bincount(y_train) / len(y_train)\n",
        "\n",
        "# Assign weights inversely based on class fractions\n",
        "weights = np.array([class_fractions[label] for label in y_train])\n",
        "\n",
        "# Initialize the classifiers\n",
        "rf = RandomForestClassifier(random_state=42)\n",
        "dt = DecisionTreeClassifier(random_state=42)\n",
        "svm = CalibratedClassifierCV(SVC(probability=True, random_state=42))\n",
        "\n",
        "# Train the classifiers\n",
        "rf.fit(X_train, y_train, sample_weight=weights)\n",
        "dt.fit(X_train, y_train)\n",
        "svm.fit(X_train, y_train)\n",
        "\n",
        "# Plotting setup\n",
        "plt.figure(figsize=(10, 8))\n",
        "models = [rf, dt, svm]\n",
        "model_names = [\"Random Forest\", \"Decision Tree\", \"SVM\"]\n",
        "colors = ['darkorange', 'green', 'blue']\n",
        "linestyles = ['-', '--', '-.']\n",
        "\n",
        "for model, name, color, ls in zip(models, model_names, colors, linestyles):\n",
        "    # Make predictions\n",
        "    y_pred = model.predict(X_test)\n",
        "\n",
        "    # Calculate accuracy\n",
        "    accuracy = accuracy_score(y_test, y_pred)\n",
        "    print(f'\\nAccuracy of {name}: {accuracy:.2f}')\n",
        "\n",
        "    # For plotting ROC curve\n",
        "    y_prob = model.predict_proba(X_test)[:, 1]\n",
        "    fpr, tpr, thresholds = roc_curve(y_test, y_prob)\n",
        "    roc_auc = auc(fpr, tpr)\n",
        "    plt.plot(fpr, tpr, color=color, lw=2, linestyle=ls, label=f'{name} ROC curve (area = {roc_auc:.2f})')\n",
        "\n",
        "# Finish plotting\n",
        "plt.plot([0, 1], [0, 1], color='navy', lw=2, linestyle='--')\n",
        "plt.xlim([0.0, 1.0])\n",
        "plt.ylim([0.0, 1.05])\n",
        "plt.xlabel('False Positive Rate')\n",
        "plt.ylabel('True Positive Rate')\n",
        "plt.title('Receiver Operating Characteristic')\n",
        "plt.legend(loc=\"lower right\")\n",
        "plt.show()\n"
      ],
      "metadata": {
        "colab": {
          "base_uri": "https://localhost:8080/",
          "height": 954
        },
        "id": "KlutifW6Gi-S",
        "outputId": "06e3c103-70f1-46b0-b85f-96d3bc95b284"
      },
      "execution_count": null,
      "outputs": [
        {
          "output_type": "stream",
          "name": "stdout",
          "text": [
            "This is the X train: (398, 7890)\n",
            "\n",
            "This is the X Test: (50, 7890)\n",
            "\n",
            "This is the y Train: (398,)\n",
            "\n",
            "This is the y Test: (50,)\n",
            "\n",
            "Accuracy of Random Forest: 0.90\n",
            "\n",
            "Accuracy of Decision Tree: 0.70\n",
            "\n",
            "Accuracy of SVM: 0.88\n"
          ]
        },
        {
          "output_type": "display_data",
          "data": {
            "text/plain": [
              "<Figure size 1000x800 with 1 Axes>"
            ],
            "image/png": "[encoded data removed]"
          },
          "metadata": {}
        }
      ]
    },
    {
      "cell_type": "code",
      "source": [
        "from sklearn.model_selection import StratifiedKFold\n",
        "from sklearn.metrics import accuracy_score, precision_score, recall_score, f1_score, roc_auc_score\n",
        "from sklearn.neighbors import KNeighborsClassifier\n",
        "from sklearn.ensemble import RandomForestClassifier\n",
        "from sklearn.tree import DecisionTreeClassifier\n",
        "from sklearn.svm import SVC\n",
        "import numpy as np\n",
        "\n",
        "# Initialize the classifiers with tuned and adjusted parameters\n",
        "knn = KNeighborsClassifier(n_neighbors=5)  # Keep adjusted n_neighbors\n",
        "rf = RandomForestClassifier(n_estimators=200, max_depth=10, min_samples_leaf=2, min_samples_split=2, random_state=42)  # Updated with optimized parameters\n",
        "dt = DecisionTreeClassifier(max_depth=5, random_state=42)  # Keep added max_depth for DT\n",
        "svm = SVC(kernel='rbf', C=1, probability=True, random_state=42)  # Keep changed to RBF kernel and adjusted C\n",
        "\n",
        "# Prepare cross-validation\n",
        "cv = StratifiedKFold(n_splits=10)\n",
        "\n",
        "# Initialize dictionaries to store the metrics\n",
        "metrics = ['accuracy', 'precision', 'recall', 'f1', 'auc-roc']\n",
        "scores_dict = {clf: {metric: [] for metric in metrics} for clf in ['KNN', 'RF', 'DT', 'SVM']}\n",
        "\n",
        "# Loop over each fold\n",
        "for train_idx, test_idx in cv.split(X_desired, y_desired_encoded):\n",
        "    X_train, X_test = X_desired[train_idx], X_desired[test_idx]\n",
        "    y_train, y_test = y_desired_encoded[train_idx], y_desired_encoded[test_idx]\n",
        "\n",
        "    for clf_name, clf in zip(['KNN', 'RF', 'DT', 'SVM'], [knn, rf, dt, svm]):\n",
        "        clf.fit(X_train, y_train)\n",
        "        predictions = clf.predict(X_test)\n",
        "\n",
        "        # For ROC AUC calculation\n",
        "        if clf_name != 'SVM':  # For classifiers supporting predict_proba\n",
        "            probabilities = clf.predict_proba(X_test)[:, 1]\n",
        "        else:  # For SVM, using decision_function\n",
        "            probabilities = clf.decision_function(X_test)\n",
        "\n",
        "        # Calculate and store each metric\n",
        "        scores_dict[clf_name]['accuracy'].append(accuracy_score(y_test, predictions))\n",
        "        scores_dict[clf_name]['precision'].append(precision_score(y_test, predictions, zero_division=0))\n",
        "        scores_dict[clf_name]['recall'].append(recall_score(y_test, predictions, zero_division=0))\n",
        "        scores_dict[clf_name]['f1'].append(f1_score(y_test, predictions, zero_division=0))\n",
        "        scores_dict[clf_name]['auc-roc'].append(roc_auc_score(y_test, probabilities))\n",
        "\n",
        "# Calculate and print the mean of each metric for each classifier\n",
        "for clf_name in scores_dict:\n",
        "    print(f\"\\n{clf_name} Metrics:\")\n",
        "    for metric in metrics:\n",
        "        mean_score = np.mean(scores_dict[clf_name][metric])\n",
        "        print(f\"{metric.capitalize()}: {mean_score:.3f}\")\n"
      ],
      "metadata": {
        "colab": {
          "base_uri": "https://localhost:8080/"
        },
        "id": "9K_OzNhh4Jbf",
        "outputId": "83d179c3-fc24-4f40-c659-637d2dcfbf9f"
      },
      "execution_count": null,
      "outputs": [
        {
          "output_type": "stream",
          "name": "stdout",
          "text": [
            "\n",
            "KNN Metrics:\n",
            "Accuracy: 0.821\n",
            "Precision: 0.821\n",
            "Recall: 1.000\n",
            "F1: 0.902\n",
            "Auc-roc: 0.418\n",
            "\n",
            "RF Metrics:\n",
            "Accuracy: 0.821\n",
            "Precision: 0.823\n",
            "Recall: 0.997\n",
            "F1: 0.902\n",
            "Auc-roc: 0.840\n",
            "\n",
            "DT Metrics:\n",
            "Accuracy: 0.776\n",
            "Precision: 0.852\n",
            "Recall: 0.883\n",
            "F1: 0.865\n",
            "Auc-roc: 0.539\n",
            "\n",
            "SVM Metrics:\n",
            "Accuracy: 0.821\n",
            "Precision: 0.821\n",
            "Recall: 1.000\n",
            "F1: 0.902\n",
            "Auc-roc: 0.730\n"
          ]
        }
      ]
    },
    {
      "cell_type": "markdown",
      "source": [
        "# **F-Folds Cross Validation**"
      ],
      "metadata": {
        "id": "JDwlBH0-fhKX"
      }
    },
    {
      "cell_type": "code",
      "source": [
        "from sklearn.model_selection import GridSearchCV, StratifiedKFold\n",
        "from sklearn.ensemble import RandomForestClassifier\n",
        "from sklearn.metrics import classification_report\n",
        "import numpy as np\n",
        "\n",
        "# StratifiedKFold to maintain class balance\n",
        "cv = StratifiedKFold(n_splits=5)\n",
        "\n",
        "# Random Forest classifier\n",
        "rf = RandomForestClassifier(random_state=42)\n",
        "\n",
        "# Parameter grid for Random Forest\n",
        "param_grid = {\n",
        "    'n_estimators': [100, 200],\n",
        "    'max_depth': [10, 20, None],\n",
        "    'min_samples_split': [2, 5],\n",
        "    'min_samples_leaf': [1, 2],\n",
        "}\n",
        "\n",
        "# Grid search with cross-validation\n",
        "grid_search = GridSearchCV(rf, param_grid, cv=cv, scoring='roc_auc', n_jobs=-1)\n",
        "grid_search.fit(X_desired, y_desired_encoded)\n",
        "\n",
        "# Best parameters and score\n",
        "print(\"Best parameters:\", grid_search.best_params_)\n",
        "print(\"Best AUC-ROC:\", grid_search.best_score_)\n",
        "\n",
        "# Apply similar optimization for SVM and GBM models\n"
      ],
      "metadata": {
        "colab": {
          "base_uri": "https://localhost:8080/"
        },
        "id": "TLpfRdnDCBXN",
        "outputId": "98ae0e2a-f11d-4284-ad56-2be6998e0ba4"
      },
      "execution_count": null,
      "outputs": [
        {
          "output_type": "stream",
          "name": "stdout",
          "text": [
            "Best parameters: {'max_depth': 10, 'min_samples_leaf': 2, 'min_samples_split': 2, 'n_estimators': 200}\n",
            "Best AUC-ROC: 0.826552665679378\n"
          ]
        }
      ]
    },
    {
      "cell_type": "code",
      "source": [
        "from sklearn.model_selection import GridSearchCV\n",
        "\n",
        "# Define parameter grids for each classifier\n",
        "param_grid_knn = {'n_neighbors': [5, 11, 13, 15]}\n",
        "param_grid_svm = {'C': [0.1, 1, 10], 'kernel': ['linear', 'rbf']}\n",
        "param_grid_dt = {'max_depth': [None, 10, 20, 30], 'min_samples_leaf': [1, 2, 4]}\n",
        "\n",
        "# Setup GridSearchCV for each classifier\n",
        "grid_knn = GridSearchCV(KNeighborsClassifier(), param_grid_knn, cv=5, scoring='accuracy', n_jobs=-1)\n",
        "grid_svm = GridSearchCV(SVC(probability=True), param_grid_svm, cv=5, scoring='accuracy', n_jobs=-1)\n",
        "grid_dt = GridSearchCV(DecisionTreeClassifier(random_state=42), param_grid_dt, cv=5, scoring='accuracy', n_jobs=-1)\n",
        "\n",
        "# Fit the grid search objects\n",
        "print(\"Tuning KNN...\")\n",
        "grid_knn.fit(X_desired, y_desired_encoded)\n",
        "print(\"Best parameters for KNN:\", grid_knn.best_params_)\n",
        "\n",
        "print(\"\\nTuning SVM...\")\n",
        "grid_svm.fit(X_desired, y_desired_encoded)\n",
        "print(\"Best parameters for SVM:\", grid_svm.best_params_)\n",
        "\n",
        "print(\"\\nTuning Decision Tree...\")\n",
        "grid_dt.fit(X_desired, y_desired_encoded)\n",
        "print(\"Best parameters for Decision Tree:\", grid_dt.best_params_)\n"
      ],
      "metadata": {
        "colab": {
          "base_uri": "https://localhost:8080/"
        },
        "id": "YCrsq1h3jQpw",
        "outputId": "0e878745-495e-4151-fa5a-e24f9e444380"
      },
      "execution_count": null,
      "outputs": [
        {
          "output_type": "stream",
          "name": "stdout",
          "text": [
            "Tuning KNN...\n",
            "Best parameters for KNN: {'n_neighbors': 11}\n",
            "\n",
            "Tuning SVM...\n",
            "Best parameters for SVM: {'C': 10, 'kernel': 'rbf'}\n",
            "\n",
            "Tuning Decision Tree...\n",
            "Best parameters for Decision Tree: {'max_depth': None, 'min_samples_leaf': 2}\n"
          ]
        }
      ]
    },
    {
      "cell_type": "markdown",
      "source": [
        "# **Applying SMOTE**"
      ],
      "metadata": {
        "id": "An2bQ_gO4LpE"
      }
    },
    {
      "cell_type": "code",
      "source": [
        "from sklearn.neighbors import KNeighborsClassifier\n",
        "from sklearn.ensemble import RandomForestClassifier\n",
        "from sklearn.tree import DecisionTreeClassifier\n",
        "from sklearn.svm import SVC\n",
        "from sklearn.metrics import accuracy_score\n",
        "from imblearn.over_sampling import SMOTE\n",
        "from sklearn.model_selection import StratifiedKFold\n",
        "import numpy as np\n",
        "from collections import Counter\n",
        "\n",
        "# Optimized classifier initialization\n",
        "knn = KNeighborsClassifier(n_neighbors=11)\n",
        "rf = RandomForestClassifier(random_state=42, n_estimators=200, max_depth=10, min_samples_leaf=2, min_samples_split=2)\n",
        "dt = DecisionTreeClassifier(random_state=42, max_depth=None, min_samples_leaf=2)\n",
        "svm = SVC(kernel='rbf', C=10, probability=True, random_state=42)\n",
        "\n",
        "# Prepare cross-validation\n",
        "cv = StratifiedKFold(n_splits=10)\n",
        "\n",
        "# Initialize lists to store accuracies for each classifier\n",
        "scores_dict = {\n",
        "    \"KNN\": [],\n",
        "    \"RF\": [],\n",
        "    \"DT\": [],\n",
        "    \"SVM\": []\n",
        "}\n",
        "\n",
        "# Loop over each fold\n",
        "for fold, (train_idx, test_idx) in enumerate(cv.split(X_desired, y_desired_encoded)):\n",
        "    # Split data into training and test sets\n",
        "    X_train, X_test = X_desired[train_idx], X_desired[test_idx]\n",
        "    y_train, y_test = y_desired_encoded[train_idx], y_desired_encoded[test_idx]\n",
        "\n",
        "    # Apply SMOTE to the training data (not the test data)\n",
        "    smote = SMOTE()\n",
        "    X_train_resampled, y_train_resampled = smote.fit_resample(X_train, y_train)\n",
        "\n",
        "    # Train and predict with each classifier\n",
        "    for clf_name, clf in zip(scores_dict.keys(), [knn, rf, dt, svm]):\n",
        "        clf.fit(X_train_resampled, y_train_resampled)\n",
        "        predictions = clf.predict(X_test)\n",
        "        scores_dict[clf_name].append(accuracy_score(y_test, predictions))\n",
        "\n",
        "# Calculate the mean accuracy for each classifier\n",
        "for clf_name in scores_dict:\n",
        "    mean_accuracy = np.mean(scores_dict[clf_name])\n",
        "    print(f\"{clf_name} 10-Fold CV Mean Accuracy with SMOTE: {mean_accuracy:.3f}\")\n"
      ],
      "metadata": {
        "colab": {
          "base_uri": "https://localhost:8080/"
        },
        "id": "AU6SHFPMqVao",
        "outputId": "193e0f8d-2ada-4242-81f7-d731cf00cf12"
      },
      "execution_count": null,
      "outputs": [
        {
          "output_type": "stream",
          "name": "stdout",
          "text": [
            "KNN 10-Fold CV Mean Accuracy with SMOTE: 0.243\n",
            "RF 10-Fold CV Mean Accuracy with SMOTE: 0.808\n",
            "DT 10-Fold CV Mean Accuracy with SMOTE: 0.703\n",
            "SVM 10-Fold CV Mean Accuracy with SMOTE: 0.821\n"
          ]
        }
      ]
    },
    {
      "cell_type": "code",
      "source": [
        "from collections import Counter\n",
        "\n",
        "# Inside your loop, after splitting data into training and test sets, but before applying SMOTE\n",
        "print(f\"Original class distribution: {Counter(y_train)}\")\n",
        "\n",
        "# After applying SMOTE\n",
        "X_train_resampled, y_train_resampled = smote.fit_resample(X_train, y_train)\n",
        "print(f\"Resampled class distribution: {Counter(y_train_resampled)}\")\n"
      ],
      "metadata": {
        "colab": {
          "base_uri": "https://localhost:8080/"
        },
        "id": "M6JXV5o79AyS",
        "outputId": "79ca3719-11bd-4c6f-9741-0c0675be7e95"
      },
      "execution_count": null,
      "outputs": [
        {
          "output_type": "stream",
          "name": "stdout",
          "text": [
            "Original class distribution: Counter({1: 332, 0: 72})\n",
            "Resampled class distribution: Counter({1: 332, 0: 332})\n"
          ]
        }
      ]
    },
    {
      "cell_type": "code",
      "source": [
        "from sklearn.model_selection import cross_val_predict\n",
        "from sklearn.metrics import confusion_matrix, classification_report\n",
        "\n",
        "# Generate cross-validated estimates for each input data point\n",
        "y_pred_knn = cross_val_predict(knn, X_desired, y_desired_encoded, cv=10)\n",
        "y_pred_rf = cross_val_predict(rf, X_desired, y_desired_encoded, cv=10)\n",
        "\n",
        "# Confusion Matrix for KNN\n",
        "cm_knn = confusion_matrix(y_desired_encoded, y_pred_knn)\n",
        "print(\"KNN Confusion Matrix:\")\n",
        "print(cm_knn)\n",
        "\n",
        "# Confusion Matrix for Random Forest\n",
        "cm_rf = confusion_matrix(y_desired_encoded, y_pred_rf)\n",
        "print(\"Random Forest Confusion Matrix:\")\n",
        "print(cm_rf)\n",
        "\n",
        "# Classification Report for KNN\n",
        "print(\"KNN Classification Report:\")\n",
        "print(classification_report(y_desired_encoded, y_pred_knn))\n",
        "\n",
        "# Classification Report for Random Forest\n",
        "print(\"Random Forest Classification Report:\")\n",
        "print(classification_report(y_desired_encoded, y_pred_rf))\n"
      ],
      "metadata": {
        "colab": {
          "base_uri": "https://localhost:8080/"
        },
        "id": "PlD9Ix6oq34p",
        "outputId": "e408be06-ab11-4549-ad13-4a7ddbc3a46b"
      },
      "execution_count": null,
      "outputs": [
        {
          "output_type": "stream",
          "name": "stdout",
          "text": [
            "KNN Confusion Matrix:\n",
            "[[  0  80]\n",
            " [  0 368]]\n",
            "Random Forest Confusion Matrix:\n",
            "[[  1  79]\n",
            " [  2 366]]\n",
            "KNN Classification Report:\n",
            "              precision    recall  f1-score   support\n",
            "\n",
            "           0       0.00      0.00      0.00        80\n",
            "           1       0.82      1.00      0.90       368\n",
            "\n",
            "    accuracy                           0.82       448\n",
            "   macro avg       0.41      0.50      0.45       448\n",
            "weighted avg       0.67      0.82      0.74       448\n",
            "\n",
            "Random Forest Classification Report:\n",
            "              precision    recall  f1-score   support\n",
            "\n",
            "           0       0.33      0.01      0.02        80\n",
            "           1       0.82      0.99      0.90       368\n",
            "\n",
            "    accuracy                           0.82       448\n",
            "   macro avg       0.58      0.50      0.46       448\n",
            "weighted avg       0.74      0.82      0.74       448\n",
            "\n"
          ]
        },
        {
          "output_type": "stream",
          "name": "stderr",
          "text": [
            "/usr/local/lib/python3.10/dist-packages/sklearn/metrics/_classification.py:1344: UndefinedMetricWarning: Precision and F-score are ill-defined and being set to 0.0 in labels with no predicted samples. Use `zero_division` parameter to control this behavior.\n",
            "  _warn_prf(average, modifier, msg_start, len(result))\n",
            "/usr/local/lib/python3.10/dist-packages/sklearn/metrics/_classification.py:1344: UndefinedMetricWarning: Precision and F-score are ill-defined and being set to 0.0 in labels with no predicted samples. Use `zero_division` parameter to control this behavior.\n",
            "  _warn_prf(average, modifier, msg_start, len(result))\n",
            "/usr/local/lib/python3.10/dist-packages/sklearn/metrics/_classification.py:1344: UndefinedMetricWarning: Precision and F-score are ill-defined and being set to 0.0 in labels with no predicted samples. Use `zero_division` parameter to control this behavior.\n",
            "  _warn_prf(average, modifier, msg_start, len(result))\n"
          ]
        }
      ]
    },
    {
      "cell_type": "markdown",
      "source": [
        "# Steps to enhance the results"
      ],
      "metadata": {
        "id": "taTHhwiGmKDJ"
      }
    },
    {
      "cell_type": "markdown",
      "source": [
        "# **Reevaluate the Feature Set**\n",
        "\n",
        "reevaluating the feature set through dimensionality reduction and feature selection, you can introduce a new cell in your notebook. This cell would first apply Principal Component Analysis (PCA) to reduce the dimensionality of your dataset, and then explore feature importance using a tree-based model like a Random Forest for feature selection. This approach aims to identify and retain the most informative features for your model. Here's how you could structure this new cell:"
      ],
      "metadata": {
        "id": "dmvhV7_EmbCG"
      }
    },
    {
      "cell_type": "code",
      "source": [
        "from sklearn.decomposition import PCA\n",
        "from sklearn.ensemble import RandomForestClassifier\n",
        "from sklearn.feature_selection import SelectFromModel\n",
        "\n",
        "# Apply PCA for Dimensionality Reduction\n",
        "pca = PCA(n_components=0.95) # Retain 95% of the variance\n",
        "X_pca = pca.fit_transform(X_desired)\n",
        "print(f\"Original feature set size: {X_desired.shape[1]}\")\n",
        "print(f\"Reduced feature set size after PCA: {X_pca.shape[1]}\")\n",
        "\n",
        "# Train a Random Forest classifier to use for feature importance\n",
        "rf = RandomForestClassifier(random_state=42)\n",
        "rf.fit(X_desired, y_desired_encoded)\n",
        "\n",
        "# Select features based on importance\n",
        "selector = SelectFromModel(rf, prefit=True)\n",
        "X_selected = selector.transform(X_desired)\n",
        "\n",
        "# Get the support for the selected features and count them\n",
        "selected_features = selector.get_support(indices=True)\n",
        "print(f\"Number of features selected by tree-based model: {len(selected_features)}\")\n",
        "\n",
        "# Optionally, compare performance or visualize the distribution of feature importances\n",
        "importances = rf.feature_importances_\n",
        "indices = np.argsort(importances)[::-1]\n",
        "\n",
        "# Plot the feature importances of the forest\n",
        "plt.figure(figsize=(10, 6))\n",
        "plt.title(\"Feature importances\")\n",
        "plt.bar(range(X_selected.shape[1]), importances[indices[:X_selected.shape[1]]],\n",
        "       color=\"r\", align=\"center\")\n",
        "plt.xticks(range(X_selected.shape[1]), indices[:X_selected.shape[1]], rotation=90)\n",
        "plt.xlim([-1, X_selected.shape[1]])\n",
        "plt.show()\n"
      ],
      "metadata": {
        "colab": {
          "base_uri": "https://localhost:8080/",
          "height": 620
        },
        "id": "sn4mivcKmJFe",
        "outputId": "43acfeb7-ac89-4b1c-bdcb-3ff9213c9a04"
      },
      "execution_count": null,
      "outputs": [
        {
          "output_type": "stream",
          "name": "stdout",
          "text": [
            "Original feature set size: 7890\n",
            "Reduced feature set size after PCA: 332\n",
            "Number of features selected by tree-based model: 1912\n"
          ]
        },
        {
          "output_type": "display_data",
          "data": {
            "text/plain": [
              "<Figure size 1000x600 with 1 Axes>"
            ],
            "image/png": "[encoded data removed]"
          },
          "metadata": {}
        }
      ]
    },
    {
      "cell_type": "code",
      "source": [
        "from sklearn.model_selection import StratifiedKFold\n",
        "from sklearn.metrics import roc_curve, auc\n",
        "from imblearn.pipeline import Pipeline\n",
        "import numpy as np\n",
        "\n",
        "# Initialize StratifiedKFold\n",
        "skf = StratifiedKFold(n_splits=10)\n",
        "\n",
        "# Initialize classifiers with optimized parameters\n",
        "rf_optimized = RandomForestClassifier(n_estimators=200, max_depth=10, min_samples_leaf=2, min_samples_split=2, random_state=42)\n",
        "svm_optimized = SVC(kernel='rbf', C=10, probability=True, random_state=42)\n",
        "\n",
        "# Initialize metrics\n",
        "roc_auc_scores_rf_pca = []\n",
        "roc_auc_scores_svm_pca = []\n",
        "roc_auc_scores_rf_selected = []\n",
        "roc_auc_scores_svm_selected = []\n",
        "\n",
        "# Perform 10-fold cross-validation for PCA reduced features\n",
        "for train_index, test_index in skf.split(X_pca, y_desired_encoded):\n",
        "    X_train, X_test = X_pca[train_index], X_pca[test_index]\n",
        "    y_train, y_test = y_desired_encoded[train_index], y_desired_encoded[test_index]\n",
        "\n",
        "    # Apply SMOTE to the training data\n",
        "    smote = SMOTE()\n",
        "    X_train_resampled, y_train_resampled = smote.fit_resample(X_train, y_train)\n",
        "\n",
        "    # Train and evaluate the model\n",
        "    rf_optimized.fit(X_train_resampled, y_train_resampled)\n",
        "    svm_optimized.fit(X_train_resampled, y_train_resampled)\n",
        "\n",
        "    # Predict probabilities for ROC AUC\n",
        "    rf_probs = rf_optimized.predict_proba(X_test)[:, 1]\n",
        "    svm_probs = svm_optimized.predict_proba(X_test)[:, 1]\n",
        "\n",
        "    # Calculate ROC AUC and append to list\n",
        "    roc_auc_scores_rf_pca.append(roc_auc_score(y_test, rf_probs))\n",
        "    roc_auc_scores_svm_pca.append(roc_auc_score(y_test, svm_probs))\n",
        "\n",
        "# Perform 10-fold cross-validation for selected features\n",
        "for train_index, test_index in skf.split(X_selected, y_desired_encoded):\n",
        "    X_train, X_test = X_selected[train_index], X_selected[test_index]\n",
        "    y_train, y_test = y_desired_encoded[train_index], y_desired_encoded[test_index]\n",
        "\n",
        "    # Apply SMOTE to the training data\n",
        "    smote = SMOTE()\n",
        "    X_train_resampled, y_train_resampled = smote.fit_resample(X_train, y_train)\n",
        "\n",
        "    # Train and evaluate the model\n",
        "    rf_optimized.fit(X_train_resampled, y_train_resampled)\n",
        "    svm_optimized.fit(X_train_resampled, y_train_resampled)\n",
        "\n",
        "    # Predict probabilities for ROC AUC\n",
        "    rf_probs = rf_optimized.predict_proba(X_test)[:, 1]\n",
        "    svm_probs = svm_optimized.predict_proba(X_test)[:, 1]\n",
        "\n",
        "    # Calculate ROC AUC and append to list\n",
        "    roc_auc_scores_rf_selected.append(roc_auc_score(y_test, rf_probs))\n",
        "    roc_auc_scores_svm_selected.append(roc_auc_score(y_test, svm_probs))\n",
        "\n",
        "# Calculate mean ROC AUC across folds\n",
        "mean_roc_auc_rf_pca = np.mean(roc_auc_scores_rf_pca)\n",
        "mean_roc_auc_svm_pca = np.mean(roc_auc_scores_svm_pca)\n",
        "mean_roc_auc_rf_selected = np.mean(roc_auc_scores_rf_selected)\n",
        "mean_roc_auc_svm_selected = np.mean(roc_auc_scores_svm_selected)\n",
        "\n",
        "# Print the mean ROC AUC for each model\n",
        "print(f\"Mean ROC AUC for Random Forest with PCA features: {mean_roc_auc_rf_pca:.3f}\")\n",
        "print(f\"Mean ROC AUC for SVM with PCA features: {mean_roc_auc_svm_pca:.3f}\")\n",
        "print(f\"Mean ROC AUC for Random Forest with selected features: {mean_roc_auc_rf_selected:.3f}\")\n",
        "print(f\"Mean ROC AUC for SVM with selected features: {mean_roc_auc_svm_selected:.3f}\")\n"
      ],
      "metadata": {
        "colab": {
          "base_uri": "https://localhost:8080/"
        },
        "id": "wNw3GMsmnfAo",
        "outputId": "c2045676-a2c2-4086-e94b-18c6456d8ea6"
      },
      "execution_count": null,
      "outputs": [
        {
          "output_type": "stream",
          "name": "stdout",
          "text": [
            "Mean ROC AUC for Random Forest with PCA features: 0.567\n",
            "Mean ROC AUC for SVM with PCA features: 0.595\n",
            "Mean ROC AUC for Random Forest with selected features: 0.796\n",
            "Mean ROC AUC for SVM with selected features: 0.717\n"
          ]
        }
      ]
    },
    {
      "cell_type": "code",
      "source": [
        "from imblearn.over_sampling import RandomOverSampler\n",
        "from imblearn.under_sampling import RandomUnderSampler\n",
        "from sklearn.model_selection import StratifiedKFold\n",
        "from sklearn.metrics import roc_auc_score\n",
        "import numpy as np\n",
        "\n",
        "# Initialize StratifiedKFold\n",
        "skf = StratifiedKFold(n_splits=10)\n",
        "\n",
        "# Initialize classifiers with optimized parameters\n",
        "rf_optimized = RandomForestClassifier(n_estimators=200, max_depth=10, min_samples_leaf=2, min_samples_split=2, random_state=42)\n",
        "svm_optimized = SVC(kernel='rbf', C=10, probability=True, random_state=42)\n",
        "\n",
        "# Initialize resamplers\n",
        "over_sampler = RandomOverSampler(sampling_strategy='minority')\n",
        "under_sampler = RandomUnderSampler(sampling_strategy='majority')\n",
        "\n",
        "# Initialize metrics\n",
        "roc_auc_scores_rf_pca = []\n",
        "roc_auc_scores_svm_pca = []\n",
        "roc_auc_scores_rf_selected = []\n",
        "roc_auc_scores_svm_selected = []\n",
        "\n",
        "# Perform 10-fold cross-validation for PCA reduced features\n",
        "for train_index, test_index in skf.split(X_pca, y_desired_encoded):\n",
        "    X_train, X_test = X_pca[train_index], X_pca[test_index]\n",
        "    y_train, y_test = y_desired_encoded[train_index], y_desired_encoded[test_index]\n",
        "\n",
        "    # Apply resampling to the training data\n",
        "    X_train_resampled, y_train_resampled = over_sampler.fit_resample(X_train, y_train)\n",
        "    X_train_resampled, y_train_resampled = under_sampler.fit_resample(X_train_resampled, y_train_resampled)\n",
        "\n",
        "    # Train and evaluate the models\n",
        "    rf_optimized.fit(X_train_resampled, y_train_resampled)\n",
        "    svm_optimized.fit(X_train_resampled, y_train_resampled)\n",
        "\n",
        "    # Predict probabilities for ROC AUC\n",
        "    rf_probs = rf_optimized.predict_proba(X_test)[:, 1]\n",
        "    svm_probs = svm_optimized.predict_proba(X_test)[:, 1]\n",
        "\n",
        "    # Calculate ROC AUC and append to list\n",
        "    roc_auc_scores_rf_pca.append(roc_auc_score(y_test, rf_probs))\n",
        "    roc_auc_scores_svm_pca.append(roc_auc_score(y_test, svm_probs))\n",
        "\n",
        "# Perform 10-fold cross-validation for tree-based selected features\n",
        "for train_index, test_index in skf.split(X_selected, y_desired_encoded):\n",
        "    X_train, X_test = X_selected[train_index], X_selected[test_index]\n",
        "    y_train, y_test = y_desired_encoded[train_index], y_desired_encoded[test_index]\n",
        "\n",
        "    # Apply resampling to the training data\n",
        "    X_train_resampled, y_train_resampled = over_sampler.fit_resample(X_train, y_train)\n",
        "    X_train_resampled, y_train_resampled = under_sampler.fit_resample(X_train_resampled, y_train_resampled)\n",
        "\n",
        "    # Train and evaluate the models\n",
        "    rf_optimized.fit(X_train_resampled, y_train_resampled)\n",
        "    svm_optimized.fit(X_train_resampled, y_train_resampled)\n",
        "\n",
        "    # Predict probabilities for ROC AUC\n",
        "    rf_probs = rf_optimized.predict_proba(X_test)[:, 1]\n",
        "    svm_probs = svm_optimized.predict_proba(X_test)[:, 1]\n",
        "\n",
        "    # Calculate ROC AUC and append to list\n",
        "    roc_auc_scores_rf_selected.append(roc_auc_score(y_test, rf_probs))\n",
        "    roc_auc_scores_svm_selected.append(roc_auc_score(y_test, svm_probs))\n",
        "\n",
        "# Calculate mean ROC AUC across folds\n",
        "mean_roc_auc_rf_pca = np.mean(roc_auc_scores_rf_pca)\n",
        "mean_roc_auc_svm_pca = np.mean(roc_auc_scores_svm_pca)\n",
        "mean_roc_auc_rf_selected = np.mean(roc_auc_scores_rf_selected)\n",
        "mean_roc_auc_svm_selected = np.mean(roc_auc_scores_svm_selected)\n",
        "\n",
        "# Print the mean ROC AUC for each model\n",
        "print(f\"Mean ROC AUC for Random Forest with PCA features: {mean_roc_auc_rf_pca:.3f}\")\n",
        "print(f\"Mean ROC AUC for SVM with PCA features: {mean_roc_auc_svm_pca:.3f}\")\n",
        "print(f\"Mean ROC AUC for Random Forest with selected features: {mean_roc_auc_rf_selected:.3f}\")\n",
        "print(f\"Mean ROC AUC for SVM with selected features: {mean_roc_auc_svm_selected:.3f}\")\n"
      ],
      "metadata": {
        "colab": {
          "base_uri": "https://localhost:8080/"
        },
        "id": "_yy5OCGeo9FF",
        "outputId": "2f6e25aa-4f28-4029-d2f9-a679abd9eb3c"
      },
      "execution_count": null,
      "outputs": [
        {
          "output_type": "stream",
          "name": "stdout",
          "text": [
            "Mean ROC AUC for Random Forest with PCA features: 0.671\n",
            "Mean ROC AUC for SVM with PCA features: 0.658\n",
            "Mean ROC AUC for Random Forest with selected features: 0.862\n",
            "Mean ROC AUC for SVM with selected features: 0.767\n"
          ]
        }
      ]
    }
  ]
}